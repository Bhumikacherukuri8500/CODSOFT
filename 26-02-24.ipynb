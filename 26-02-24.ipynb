{
 "cells": [
  {
   "cell_type": "code",
   "execution_count": 1,
   "id": "440c8442",
   "metadata": {},
   "outputs": [
    {
     "name": "stdout",
     "output_type": "stream",
     "text": [
      "HI\n"
     ]
    }
   ],
   "source": [
    "print(\"HI\")"
   ]
  },
  {
   "cell_type": "code",
   "execution_count": 3,
   "id": "c6f10005",
   "metadata": {},
   "outputs": [
    {
     "name": "stdout",
     "output_type": "stream",
     "text": [
      "da workshop\n"
     ]
    }
   ],
   "source": [
    "print(\"da workshop\")"
   ]
  },
  {
   "cell_type": "code",
   "execution_count": 13,
   "id": "15bc5ac0",
   "metadata": {},
   "outputs": [
    {
     "name": "stdout",
     "output_type": "stream",
     "text": [
      "enter the number7\n",
      "prime number\n"
     ]
    }
   ],
   "source": [
    "num=int(input(\"enter the number\"))\n",
    "if num>1:\n",
    "    for i in range(2,int(num/2)+1):\n",
    "        if(n%i)==0:\n",
    "            print(\"is not a primenumber\")\n",
    "            break\n",
    "    else:\n",
    "        print(\"prime number\")\n",
    "else:\n",
    "    print(\"not a prime number\")"
   ]
  },
  {
   "cell_type": "code",
   "execution_count": 14,
   "id": "45de842e",
   "metadata": {},
   "outputs": [
    {
     "name": "stdout",
     "output_type": "stream",
     "text": [
      "['False', 'None', 'True', 'and', 'as', 'assert', 'async', 'await', 'break', 'class', 'continue', 'def', 'del', 'elif', 'else', 'except', 'finally', 'for', 'from', 'global', 'if', 'import', 'in', 'is', 'lambda', 'nonlocal', 'not', 'or', 'pass', 'raise', 'return', 'try', 'while', 'with', 'yield']\n"
     ]
    }
   ],
   "source": [
    "import keyword\n",
    "print(keyword.kwlist)"
   ]
  },
  {
   "cell_type": "code",
   "execution_count": 15,
   "id": "92db9485",
   "metadata": {},
   "outputs": [
    {
     "name": "stdout",
     "output_type": "stream",
     "text": [
      "35\n"
     ]
    }
   ],
   "source": [
    "import keyword\n",
    "print(len(keyword.kwlist))"
   ]
  },
  {
   "cell_type": "code",
   "execution_count": 16,
   "id": "82909038",
   "metadata": {},
   "outputs": [
    {
     "data": {
      "text/plain": [
       "79"
      ]
     },
     "execution_count": 16,
     "metadata": {},
     "output_type": "execute_result"
    }
   ],
   "source": [
    "a=79\n",
    "a"
   ]
  },
  {
   "cell_type": "code",
   "execution_count": 17,
   "id": "546fbb55",
   "metadata": {},
   "outputs": [
    {
     "data": {
      "text/plain": [
       "0"
      ]
     },
     "execution_count": 17,
     "metadata": {},
     "output_type": "execute_result"
    }
   ],
   "source": [
    "_f8=0\n",
    "_f8"
   ]
  },
  {
   "cell_type": "code",
   "execution_count": 18,
   "id": "d02ed70b",
   "metadata": {},
   "outputs": [
    {
     "data": {
      "text/plain": [
       "90"
      ]
     },
     "execution_count": 18,
     "metadata": {},
     "output_type": "execute_result"
    }
   ],
   "source": [
    "a_b=90\n",
    "a_b"
   ]
  },
  {
   "cell_type": "code",
   "execution_count": 19,
   "id": "a8af4b89",
   "metadata": {},
   "outputs": [
    {
     "name": "stdout",
     "output_type": "stream",
     "text": [
      "567\n"
     ]
    }
   ],
   "source": [
    "'''hjbksipfkj\n",
    "jsgyegfefjbhfbe\n",
    "nbgheferhurg\n",
    "jjhfuerhfiref'''\n",
    "print(567)"
   ]
  },
  {
   "cell_type": "code",
   "execution_count": 22,
   "id": "2f1ee083",
   "metadata": {},
   "outputs": [
    {
     "name": "stdout",
     "output_type": "stream",
     "text": [
      "enter a number:45578\n"
     ]
    },
    {
     "data": {
      "text/plain": [
       "45578"
      ]
     },
     "execution_count": 22,
     "metadata": {},
     "output_type": "execute_result"
    }
   ],
   "source": [
    "n=int(input('enter a number:'))\n",
    "n"
   ]
  },
  {
   "cell_type": "code",
   "execution_count": 23,
   "id": "3ae7411f",
   "metadata": {},
   "outputs": [
    {
     "name": "stdout",
     "output_type": "stream",
     "text": [
      "enter a number:67\n"
     ]
    },
    {
     "data": {
      "text/plain": [
       "67.0"
      ]
     },
     "execution_count": 23,
     "metadata": {},
     "output_type": "execute_result"
    }
   ],
   "source": [
    "n1=float(input('enter a number:'))\n",
    "n1"
   ]
  },
  {
   "cell_type": "code",
   "execution_count": 24,
   "id": "5feee6c7",
   "metadata": {},
   "outputs": [
    {
     "name": "stdout",
     "output_type": "stream",
     "text": [
      "hgjko\n"
     ]
    },
    {
     "data": {
      "text/plain": [
       "'hgjko'"
      ]
     },
     "execution_count": 24,
     "metadata": {},
     "output_type": "execute_result"
    }
   ],
   "source": [
    "f=str(input())\n",
    "f"
   ]
  },
  {
   "cell_type": "code",
   "execution_count": 27,
   "id": "8a6349a4",
   "metadata": {},
   "outputs": [
    {
     "name": "stdout",
     "output_type": "stream",
     "text": [
      "78 <class 'int'>\n",
      "78.0 <class 'float'>\n"
     ]
    }
   ],
   "source": [
    "h=78\n",
    "print(h,type(h))\n",
    "h1=float(h)\n",
    "print(h1,type(h1))\n"
   ]
  },
  {
   "cell_type": "code",
   "execution_count": 28,
   "id": "f9ea13d7",
   "metadata": {},
   "outputs": [
    {
     "name": "stdout",
     "output_type": "stream",
     "text": [
      "73.0 <class 'float'>\n",
      "73 <class 'int'>\n"
     ]
    }
   ],
   "source": [
    "h=73.0\n",
    "print(h,type(h))\n",
    "h2=int(h)\n",
    "print(h2,type(h2))"
   ]
  },
  {
   "cell_type": "code",
   "execution_count": null,
   "id": "82f34336",
   "metadata": {},
   "outputs": [],
   "source": [
    "#operators\n",
    "1.arithematic  +,-,/,//,%,*\n",
    "2.relational   <,>,<=,>=,==\n",
    "3.assignment   +==,-==,*=,/=.......etc\n",
    "4.logical    and ,or ,not \n",
    "5.bitwise   &,|,^,<<,>>\n",
    "6.membership  in, not in\n",
    "7.identity   is,is not"
   ]
  },
  {
   "cell_type": "code",
   "execution_count": 29,
   "id": "6b07ac6c",
   "metadata": {},
   "outputs": [
    {
     "name": "stdout",
     "output_type": "stream",
     "text": [
      "13 -1 42\n"
     ]
    }
   ],
   "source": [
    "a,b=6,7\n",
    "print(a+b,a-b,a*b)"
   ]
  },
  {
   "cell_type": "code",
   "execution_count": 33,
   "id": "d6ada89b",
   "metadata": {},
   "outputs": [
    {
     "name": "stdout",
     "output_type": "stream",
     "text": [
      "4 0 4.0 64\n"
     ]
    }
   ],
   "source": [
    "a,b=8,2\n",
    "print(a//b,a%b,a/b,a**b)"
   ]
  },
  {
   "cell_type": "code",
   "execution_count": 36,
   "id": "e15c5754",
   "metadata": {},
   "outputs": [
    {
     "data": {
      "text/plain": [
       "10"
      ]
     },
     "execution_count": 36,
     "metadata": {},
     "output_type": "execute_result"
    }
   ],
   "source": [
    "x=7\n",
    "x+=3\n",
    "x"
   ]
  },
  {
   "cell_type": "code",
   "execution_count": 39,
   "id": "a6ebab2a",
   "metadata": {},
   "outputs": [
    {
     "data": {
      "text/plain": [
       "-7"
      ]
     },
     "execution_count": 39,
     "metadata": {},
     "output_type": "execute_result"
    }
   ],
   "source": [
    "y=3\n",
    "y-=x\n",
    "y"
   ]
  },
  {
   "cell_type": "code",
   "execution_count": 41,
   "id": "e5f5d2ef",
   "metadata": {},
   "outputs": [
    {
     "data": {
      "text/plain": [
       "-56"
      ]
     },
     "execution_count": 41,
     "metadata": {},
     "output_type": "execute_result"
    }
   ],
   "source": [
    "z=8\n",
    "z*=y\n",
    "z"
   ]
  },
  {
   "cell_type": "code",
   "execution_count": 42,
   "id": "539691e5",
   "metadata": {},
   "outputs": [
    {
     "name": "stdout",
     "output_type": "stream",
     "text": [
      "False\n",
      "True False\n",
      "True False\n"
     ]
    }
   ],
   "source": [
    "x,y=9,6\n",
    "print(x==y)\n",
    "print(x>y,x<y)\n",
    "print(x>=y,x<=y)"
   ]
  },
  {
   "cell_type": "code",
   "execution_count": 1,
   "id": "4e954ffb",
   "metadata": {},
   "outputs": [
    {
     "name": "stdout",
     "output_type": "stream",
     "text": [
      "hi\n"
     ]
    }
   ],
   "source": [
    "print(\"hi\")"
   ]
  },
  {
   "cell_type": "markdown",
   "id": "42459148",
   "metadata": {},
   "source": [
    "n=int(input())\n",
    "if(n%2==0):\n",
    "    print(\"even\")"
   ]
  },
  {
   "cell_type": "code",
   "execution_count": null,
   "id": "883511e0",
   "metadata": {},
   "outputs": [],
   "source": []
  }
 ],
 "metadata": {
  "kernelspec": {
   "display_name": "Python 3 (ipykernel)",
   "language": "python",
   "name": "python3"
  },
  "language_info": {
   "codemirror_mode": {
    "name": "ipython",
    "version": 3
   },
   "file_extension": ".py",
   "mimetype": "text/x-python",
   "name": "python",
   "nbconvert_exporter": "python",
   "pygments_lexer": "ipython3",
   "version": "3.11.5"
  }
 },
 "nbformat": 4,
 "nbformat_minor": 5
}
